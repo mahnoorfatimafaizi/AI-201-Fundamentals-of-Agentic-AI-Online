{
  "nbformat": 4,
  "nbformat_minor": 0,
  "metadata": {
    "colab": {
      "provenance": [],
      "authorship_tag": "ABX9TyNYDQwuJ+EaQ/smF+RCDad3",
      "include_colab_link": true
    },
    "kernelspec": {
      "name": "python3",
      "display_name": "Python 3"
    },
    "language_info": {
      "name": "python"
    }
  },
  "cells": [
    {
      "cell_type": "markdown",
      "metadata": {
        "id": "view-in-github",
        "colab_type": "text"
      },
      "source": [
        "<a href=\"https://colab.research.google.com/github/mahnoorfatimafaizi/AI-201-Fundamentals-of-Agentic-AI-Online/blob/main/A1_201_Class03_Online.ipynb\" target=\"_parent\"><img src=\"https://colab.research.google.com/assets/colab-badge.svg\" alt=\"Open In Colab\"/></a>"
      ]
    },
    {
      "cell_type": "markdown",
      "source": [
        "To connect model/llm to your machine(client)"
      ],
      "metadata": {
        "id": "rAHq8b3NfQzO"
      }
    },
    {
      "cell_type": "code",
      "execution_count": 1,
      "metadata": {
        "colab": {
          "base_uri": "https://localhost:8080/"
        },
        "id": "m7PcdHiYeMyW",
        "outputId": "965a41a4-d8ec-42f3-f864-ac893a4333d7"
      },
      "outputs": [
        {
          "output_type": "stream",
          "name": "stdout",
          "text": [
            "\u001b[?25l   \u001b[90m━━━━━━━━━━━━━━━━━━━━━━━━━━━━━━━━━━━━━━━━\u001b[0m \u001b[32m0.0/137.7 kB\u001b[0m \u001b[31m?\u001b[0m eta \u001b[36m-:--:--\u001b[0m\r\u001b[2K   \u001b[91m━━━━━━━━━━━━━━━━━━━━━━━━━━━━━━━━━━━━━━\u001b[0m\u001b[91m╸\u001b[0m\u001b[90m━\u001b[0m \u001b[32m133.1/137.7 kB\u001b[0m \u001b[31m82.3 MB/s\u001b[0m eta \u001b[36m0:00:01\u001b[0m\r\u001b[2K   \u001b[90m━━━━━━━━━━━━━━━━━━━━━━━━━━━━━━━━━━━━━━━━\u001b[0m \u001b[32m137.7/137.7 kB\u001b[0m \u001b[31m2.8 MB/s\u001b[0m eta \u001b[36m0:00:00\u001b[0m\n",
            "\u001b[?25h"
          ]
        }
      ],
      "source": [
        "!pip install -U -q google_genai"
      ]
    },
    {
      "cell_type": "markdown",
      "source": [
        "API keys connectivity"
      ],
      "metadata": {
        "id": "lVUy7YvufbaM"
      }
    },
    {
      "cell_type": "code",
      "source": [
        "from google.colab import userdata\n",
        "import os\n",
        "os.environ['GOOGLE_API_KEY'] = userdata.get('GOOGLE_API_KEY')\n",
        "client = genai.Client(api_key=os.environ.get('GOOGLE_API_KEY'))"
      ],
      "metadata": {
        "id": "-uH2SsGffO_p"
      },
      "execution_count": 9,
      "outputs": []
    },
    {
      "cell_type": "markdown",
      "source": [
        "Import"
      ],
      "metadata": {
        "id": "CwzKof_Vjt3b"
      }
    },
    {
      "cell_type": "code",
      "source": [
        "from google import genai"
      ],
      "metadata": {
        "id": "EKHjKWNTgSE5"
      },
      "execution_count": 10,
      "outputs": []
    },
    {
      "cell_type": "markdown",
      "source": [
        "Initailaize SDK Client"
      ],
      "metadata": {
        "id": "lLrp7yuAjwd0"
      }
    },
    {
      "cell_type": "code",
      "source": [
        "from google import genai\n",
        "client = genai.Client()"
      ],
      "metadata": {
        "id": "xPJBWkYbgej3"
      },
      "execution_count": 11,
      "outputs": []
    },
    {
      "cell_type": "markdown",
      "source": [
        "Model"
      ],
      "metadata": {
        "id": "624kVvvkkQFp"
      }
    },
    {
      "cell_type": "code",
      "source": [
        "MODEL: str = \"gemini-2.0-flash-exp\""
      ],
      "metadata": {
        "id": "xAsBdMgKkRPr"
      },
      "execution_count": 13,
      "outputs": []
    },
    {
      "cell_type": "code",
      "source": [
        "response = client.models.generate_content(\n",
        "    model = MODEL,\n",
        "    contents = \"How does AI work?\"\n",
        ")\n",
        "\n",
        "print(response.text)"
      ],
      "metadata": {
        "colab": {
          "base_uri": "https://localhost:8080/"
        },
        "id": "A3S0Z6xflw2A",
        "outputId": "ad7a21f1-451f-4310-e6f0-dde7cc52465d"
      },
      "execution_count": 14,
      "outputs": [
        {
          "output_type": "stream",
          "name": "stdout",
          "text": [
            "Artificial intelligence (AI) is a broad field of computer science that aims to create machines that can perform tasks that typically require human intelligence.  It's not one single thing, but rather a collection of techniques and approaches. Here's a breakdown of how AI works, focusing on the most common and fundamental aspects:\n",
            "\n",
            "**1. Core Concept: Learning from Data**\n",
            "\n",
            "The fundamental principle behind most AI systems is learning from data. Instead of being explicitly programmed to perform a task, they are trained on large datasets to identify patterns, make predictions, and improve their performance over time.\n",
            "\n",
            "**2. Key Components & Techniques:**\n",
            "\n",
            "*   **Machine Learning (ML):**  This is the workhorse of modern AI. ML algorithms learn patterns from data without being explicitly programmed.  Think of it like teaching a dog tricks – you show them examples, reward correct behavior, and they learn over time.  There are several types of machine learning:\n",
            "    *   **Supervised Learning:** The algorithm is trained on labeled data (input with corresponding correct output).  The goal is to learn a mapping function that can predict the output for new, unseen input. Examples:\n",
            "        *   *Image Classification:*  Showing the algorithm thousands of pictures of cats and dogs, labeled accordingly. It learns to identify new images as either cat or dog.\n",
            "        *   *Spam Detection:* Training the algorithm on emails labeled as spam or not spam.  It learns to identify characteristics of spam emails.\n",
            "        *   *Regression:* Predicting a continuous value, like predicting house prices based on size, location, etc.\n",
            "\n",
            "    *   **Unsupervised Learning:**  The algorithm is trained on unlabeled data. The goal is to find hidden patterns, structures, or relationships within the data. Examples:\n",
            "        *   *Clustering:* Grouping customers based on their purchasing behavior.\n",
            "        *   *Anomaly Detection:* Identifying unusual patterns in data, like fraudulent transactions.\n",
            "        *   *Dimensionality Reduction:* Reducing the number of variables in a dataset while preserving important information.\n",
            "\n",
            "    *   **Reinforcement Learning:** The algorithm learns by interacting with an environment and receiving rewards or penalties for its actions. It aims to learn an optimal strategy to maximize its cumulative reward.  Examples:\n",
            "        *   *Game Playing:* Training an AI to play games like chess or Go.\n",
            "        *   *Robotics:*  Teaching a robot to navigate a maze.\n",
            "\n",
            "*   **Deep Learning (DL):** A subfield of machine learning that uses artificial neural networks with many layers (hence \"deep\").  These networks are inspired by the structure of the human brain and are particularly good at complex tasks like image recognition, natural language processing, and speech recognition.\n",
            "    *   **Neural Networks:** Consist of interconnected nodes (neurons) organized in layers.  Each connection has a weight associated with it, which is adjusted during training to improve the network's performance.\n",
            "    *   **Backpropagation:**  A key algorithm used to train deep neural networks. It calculates the error in the network's output and propagates it back through the network to adjust the weights.\n",
            "\n",
            "*   **Natural Language Processing (NLP):**  Focuses on enabling computers to understand, interpret, and generate human language.  It involves techniques like:\n",
            "    *   *Text Analysis:*  Extracting information from text, such as sentiment analysis (identifying the emotional tone of a piece of text).\n",
            "    *   *Machine Translation:*  Automatically translating text from one language to another.\n",
            "    *   *Speech Recognition:* Converting spoken language into text.\n",
            "    *   *Text Generation:* Creating new text, such as writing articles or chatbots.\n",
            "\n",
            "*   **Computer Vision:**  Enables computers to \"see\" and interpret images and videos.  It involves techniques like:\n",
            "    *   *Object Detection:*  Identifying objects in an image or video.\n",
            "    *   *Image Recognition:*  Classifying images based on their content.\n",
            "    *   *Image Segmentation:*  Dividing an image into different regions based on their characteristics.\n",
            "\n",
            "*   **Rule-Based Systems:** These AI systems rely on a set of predefined rules to make decisions. They're useful for tasks where the rules are well-defined and relatively simple. (Less common in modern advanced AI).\n",
            "\n",
            "**3. The AI Lifecycle (simplified):**\n",
            "\n",
            "1.  **Data Collection:** Gathering relevant data. The quality and quantity of data are crucial for successful AI development.\n",
            "2.  **Data Preprocessing:** Cleaning and preparing the data for training. This includes handling missing values, removing noise, and transforming the data into a suitable format.\n",
            "3.  **Model Selection:** Choosing the appropriate AI algorithm or model for the task at hand.\n",
            "4.  **Model Training:**  Feeding the preprocessed data to the chosen model and allowing it to learn the underlying patterns.\n",
            "5.  **Model Evaluation:**  Assessing the performance of the trained model on a separate dataset (the \"test set\") to ensure it generalizes well to new data.\n",
            "6.  **Model Deployment:** Integrating the trained model into a real-world application.\n",
            "7.  **Monitoring and Retraining:**  Continuously monitoring the model's performance and retraining it with new data to maintain its accuracy and relevance.\n",
            "\n",
            "**4. Hardware and Infrastructure:**\n",
            "\n",
            "AI, especially deep learning, often requires significant computational power.  This is where specialized hardware like:\n",
            "\n",
            "*   **GPUs (Graphics Processing Units):** Designed for parallel processing, making them well-suited for training complex AI models.\n",
            "*   **TPUs (Tensor Processing Units):**  Custom-designed AI accelerators developed by Google.\n",
            "*   **Cloud Computing:**  Provides access to vast amounts of computing resources and storage for AI development.\n",
            "\n",
            "**5. Important Considerations:**\n",
            "\n",
            "*   **Bias:** AI models can inherit biases present in the data they are trained on, leading to unfair or discriminatory outcomes.\n",
            "*   **Explainability:**  Understanding how an AI model makes its decisions can be challenging, especially with complex deep learning models (\"black boxes\").  Explainable AI (XAI) is a growing area of research.\n",
            "*   **Ethics:**  Developing and deploying AI responsibly requires careful consideration of its ethical implications, such as privacy, security, and potential for misuse.\n",
            "*   **Data Privacy:** Ensuring the privacy of data used to train and operate AI systems is paramount.\n",
            "\n",
            "**In summary:**\n",
            "\n",
            "AI is a complex and rapidly evolving field. At its core, it's about enabling computers to learn from data, make predictions, and perform tasks that typically require human intelligence. It relies on various techniques like machine learning, deep learning, natural language processing, and computer vision, supported by powerful hardware and infrastructure.  Understanding the underlying principles and addressing the ethical considerations are essential for developing and deploying AI responsibly.\n",
            "\n"
          ]
        }
      ]
    }
  ]
}